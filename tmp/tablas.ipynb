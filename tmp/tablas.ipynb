{
 "cells": [
  {
   "cell_type": "code",
   "execution_count": 28,
   "metadata": {},
   "outputs": [
    {
     "name": "stdout",
     "output_type": "stream",
     "text": [
      "Running\n"
     ]
    },
    {
     "name": "stderr",
     "output_type": "stream",
     "text": [
      "Traceback (most recent call last):\n",
      "  File \"/home/alfith/UNEX/Laboratorio/Program-manager/tmp/repit.py\", line 2, in <module>\n",
      "    a = input (\"introduce\" + str(i))\n",
      "EOFError: EOF when reading a line\n"
     ]
    }
   ],
   "source": [
    "import subprocess\n",
    "import time\n",
    "\n",
    "\n",
    "process1 = subprocess.Popen(universal_newlines=True, cwd=\"../\", args=[\"python3\",\"tmp/repit.py\"],stdin=subprocess.PIPE, \n",
    "        stdout=subprocess.PIPE)\n",
    "\n",
    "process2 = subprocess.Popen(universal_newlines=True, shell= True, cwd=\"../\", args=\"gnome-terminal\",stdin=subprocess.PIPE,  stdout=process1.stdout, \n",
    "                            )\n",
    "process1.stdin.close()\n",
    "process1.stdin = process2.stdin\n",
    "\n",
    "\n",
    "\n",
    "print(\"Running\")\n",
    "process1.wait()\n",
    "process2.kill()"
   ]
  },
  {
   "cell_type": "code",
   "execution_count": 1,
   "metadata": {},
   "outputs": [
    {
     "ename": "SystemExit",
     "evalue": "0",
     "output_type": "error",
     "traceback": [
      "An exception has occurred, use %tb to see the full traceback.\n",
      "\u001b[0;31mSystemExit\u001b[0m\u001b[0;31m:\u001b[0m 0\n"
     ]
    },
    {
     "name": "stderr",
     "output_type": "stream",
     "text": [
      "/usr/lib/python3/dist-packages/IPython/core/interactiveshell.py:3465: UserWarning: To exit: use 'exit', 'quit', or Ctrl-D.\n",
      "  warn(\"To exit: use 'exit', 'quit', or Ctrl-D.\", stacklevel=1)\n"
     ]
    }
   ],
   "source": [
    "import sys\n",
    "import os\n",
    "import random\n",
    "from PySide6 import QtCore, QtWidgets, QtGui\n",
    "\n",
    "colors = [(\"Red\", \"#FF0000\"),\n",
    "          (\"Green\", \"#00FF00\"),\n",
    "          (\"Blue\", \"#0000FF\"),\n",
    "          (\"Black\", \"#000000\"),\n",
    "          (\"White\", \"#FFFFFF\"),\n",
    "          (\"Electric Green\", \"#41CD52\"),\n",
    "          (\"Dark Blue\", \"#222840\"),\n",
    "          (\"Yellow\", \"#F9E56d\")]\n",
    "\n",
    "def get_rgb_from_hex(code):\n",
    "    code_hex = code.replace(\"#\", \"\")\n",
    "    rgb = tuple(int(code_hex[i:i+2], 16) for i in (0, 2, 4))\n",
    "    return QtGui.QColor.fromRgb(rgb[0], rgb[1], rgb[2])\n",
    "\n",
    "\n",
    "class myButon(QtWidgets.QPushButton):\n",
    "    def __init__(self,row=0, col=0, function=os.system, argument=\"echo Vacio\", parent=None):\n",
    "        super(myButon, self).__init__(parent)\n",
    "        self.row = row\n",
    "        self.col = col\n",
    "        self.function = function\n",
    "        self.argument = argument\n",
    "\n",
    "class MyWidget(QtWidgets.QWidget):\n",
    "    def __init__(self):\n",
    "        super().__init__()\n",
    "        self.table = QtWidgets.QTableWidget(self)\n",
    "        columnas=[\"Disp\", \"IP\", \"Ping\", \"SSH\", \"Prog\", \"Config\", \"Status\",\"Start/Stop\", \"Terminal\", \"Clean\", \"Compile\"]\n",
    "        self.table.setColumnCount(len(columnas))\n",
    "        #self.setCentralWidget(self.table)\n",
    "        data1 = ['hola','hola2','calculator']\n",
    "        data2 = ['1.3.4.','2.05.5.5.','3.051','35.6.7.9999']\n",
    "        filas=4\n",
    "        program = [\"../tmp/hola.py\", \"../tmp/hola2.py\", \"../tmp/calculator.py\"]\n",
    "\n",
    "        #Ajuste de columnas a estrechas\n",
    "        header = self.table.horizontalHeader().setSectionResizeMode(QtWidgets.QHeaderView.ResizeMode().ResizeToContents) \n",
    "        #Cantidad de columnas\n",
    "        self.table.setRowCount(3)\n",
    "        #Tamaño y posicion tabla\n",
    "        self.table.setGeometry(QtCore.QRect(50, 0, 950, 36*filas))\n",
    "        #Titulos de las columnas\n",
    "        self.table.setHorizontalHeaderLabels(columnas)\n",
    "\n",
    "        for index in range(3):\n",
    "            item1 = QtWidgets.QTableWidgetItem(data1[index])\n",
    "            self.table.setItem(index,0,item1)\n",
    "            item2 = QtWidgets.QTableWidgetItem(data2[index])\n",
    "            self.table.setItem(index,1,item2)\n",
    "            btn_sell = myButon('run', argument=program[index])\n",
    "\n",
    "            item_color = QtWidgets.QTableWidgetItem()\n",
    "            item_color.setBackground(QtGui.QColor.fromRgb(0, 255, 0))\n",
    "            self.table.setItem(index, 3, item_color)\n",
    "\n",
    "            btn_sell.button_row = index\n",
    "            btn_sell.button_column = 2\n",
    "            btn_sell.clicked.connect(self.handleButtonClicked)\n",
    "            self.table.setCellWidget(index,2,btn_sell)\n",
    "\n",
    "    def handleButtonClicked(self):\n",
    "        button = self.sender()\n",
    "        print(button.button_row, \"x\", button.button_column)\n",
    "        button.function(button.argument)\n",
    "\n",
    "if __name__ == \"__main__\":\n",
    "    app = QtWidgets.QApplication([])\n",
    "\n",
    "    widget = MyWidget()\n",
    "    widget.resize(1100, 600)\n",
    "    widget.show()\n",
    "\n",
    "    sys.exit(app.exec())"
   ]
  },
  {
   "cell_type": "code",
   "execution_count": 8,
   "metadata": {},
   "outputs": [
    {
     "data": {
      "text/html": [
       "<div>\n",
       "<style scoped>\n",
       "    .dataframe tbody tr th:only-of-type {\n",
       "        vertical-align: middle;\n",
       "    }\n",
       "\n",
       "    .dataframe tbody tr th {\n",
       "        vertical-align: top;\n",
       "    }\n",
       "\n",
       "    .dataframe thead th {\n",
       "        text-align: right;\n",
       "    }\n",
       "</style>\n",
       "<table border=\"1\" class=\"dataframe\">\n",
       "  <thead>\n",
       "    <tr style=\"text-align: right;\">\n",
       "      <th></th>\n",
       "      <th>Dispositivo</th>\n",
       "      <th>SSH</th>\n",
       "      <th>Ping</th>\n",
       "      <th>Path</th>\n",
       "      <th>Program</th>\n",
       "      <th>Config</th>\n",
       "    </tr>\n",
       "  </thead>\n",
       "  <tbody>\n",
       "    <tr>\n",
       "      <th>0</th>\n",
       "      <td>robolab@158.49.247.198</td>\n",
       "      <td>off</td>\n",
       "      <td>off</td>\n",
       "      <td>Documentos/Alejandro/Program-manager/tmp</td>\n",
       "      <td>python3, calculator.py</td>\n",
       "      <td></td>\n",
       "    </tr>\n",
       "    <tr>\n",
       "      <th>1</th>\n",
       "      <td>robolab@158.49.247.198</td>\n",
       "      <td>off</td>\n",
       "      <td>off</td>\n",
       "      <td>Documentos/Alejandro/Program-manager/tmp</td>\n",
       "      <td>python3, hola.py</td>\n",
       "      <td></td>\n",
       "    </tr>\n",
       "    <tr>\n",
       "      <th>2</th>\n",
       "      <td>robolab@158.49.247.198</td>\n",
       "      <td>off</td>\n",
       "      <td>off</td>\n",
       "      <td>Documentos/Alejandro/Program-manager/tmp</td>\n",
       "      <td>./cc.o</td>\n",
       "      <td></td>\n",
       "    </tr>\n",
       "  </tbody>\n",
       "</table>\n",
       "</div>"
      ],
      "text/plain": [
       "              Dispositivo            SSH  Ping  \\\n",
       "0  robolab@158.49.247.198            off   off   \n",
       "1  robolab@158.49.247.198            off   off   \n",
       "2  robolab@158.49.247.198            off   off   \n",
       "\n",
       "                                        Path  \\\n",
       "0   Documentos/Alejandro/Program-manager/tmp   \n",
       "1   Documentos/Alejandro/Program-manager/tmp   \n",
       "2   Documentos/Alejandro/Program-manager/tmp   \n",
       "\n",
       "                                    Program                    Config  \n",
       "0                    python3, calculator.py                            \n",
       "1                          python3, hola.py                            \n",
       "2                                    ./cc.o                            "
      ]
     },
     "execution_count": 8,
     "metadata": {},
     "output_type": "execute_result"
    }
   ],
   "source": [
    "import pandas\n",
    "pandas.read_csv('../etc/config.csv',delimiter=\";\")"
   ]
  },
  {
   "cell_type": "code",
   "execution_count": 29,
   "metadata": {},
   "outputs": [
    {
     "ename": "",
     "evalue": "",
     "output_type": "error",
     "traceback": [
      "\u001b[1;31mEl Kernel se bloqueó al ejecutar código en la celda actual o en una celda anterior. Revise el código de las celdas para identificar una posible causa del error. Haga clic <a href='https://aka.ms/vscodeJupyterKernelCrash'>aquí</a> para obtener más información. Vea el [registro] de Jupyter (command:jupyter.viewOutput) para obtener más detalles."
     ]
    },
    {
     "ename": "",
     "evalue": "",
     "output_type": "error",
     "traceback": [
      "\u001b[1;31mCanceled future for execute_request message before replies were done"
     ]
    }
   ],
   "source": [
    "import sys\n",
    "import random\n",
    "from PySide6 import QtCore, QtWidgets, QtGui\n",
    "\n",
    "layout = QtWidgets.QVBoxLayout()\n",
    "label = QtWidgets.QLabel(\"Another Window\")\n",
    "layout.addWidget(label)\n",
    "self.setLayout(layout)"
   ]
  }
 ],
 "metadata": {
  "kernelspec": {
   "display_name": "Python 3",
   "language": "python",
   "name": "python3"
  },
  "language_info": {
   "codemirror_mode": {
    "name": "ipython",
    "version": 3
   },
   "file_extension": ".py",
   "mimetype": "text/x-python",
   "name": "python",
   "nbconvert_exporter": "python",
   "pygments_lexer": "ipython3",
   "version": "3.10.6"
  },
  "orig_nbformat": 4,
  "vscode": {
   "interpreter": {
    "hash": "916dbcbb3f70747c44a77c7bcd40155683ae19c65e1c03b4aa3499c5328201f1"
   }
  }
 },
 "nbformat": 4,
 "nbformat_minor": 2
}
